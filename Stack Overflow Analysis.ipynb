{
 "cells": [
  {
   "cell_type": "markdown",
   "metadata": {},
   "source": [
    "# Stack Overflow Analysis\n",
    "\n"
   ]
  },
  {
   "cell_type": "markdown",
   "metadata": {},
   "source": [
    "* process data\n",
    "* what do we want to answer\n",
    "* features for questions\n",
    "* train\n",
    "* evaluation"
   ]
  },
  {
   "cell_type": "code",
   "execution_count": null,
   "metadata": {
    "collapsed": true
   },
   "outputs": [],
   "source": []
  },
  {
   "cell_type": "markdown",
   "metadata": {},
   "source": [
    "To begin to understand the data, we wanted to analyze several potential correlations. Notably, we anticipated correlations between:\n",
    "* length of text and upvote proportion for question/answer\n",
    "* upvote proportion and upvotes + downvotes for questions/answers\n",
    "* views and upvote proportion for questions/answers\n",
    "* question tags and views/response time\n",
    "* reputation and upvote score for questions/answers\n",
    "\n",
    "We plotted scatter plots for each pair to visualize the data."
   ]
  },
  {
   "cell_type": "code",
   "execution_count": null,
   "metadata": {
    "collapsed": true
   },
   "outputs": [],
   "source": [
    "import matplotlib\n",
    "# matplotlib.use(\"svg\")\n",
    "import matplotlib.pyplot as plt\n",
    "%matplotlib inline\n",
    "plt.style.use('ggplot')\n",
    "\n",
    "# p = plt.scatter(, )\n",
    "# plt.show()"
   ]
  },
  {
   "cell_type": "markdown",
   "metadata": {},
   "source": [
    "The scatter plots indicate...\n",
    "\n",
    "Now that we are familiar with our data, we will try to answer some questions with it. We are interested in determining:\n",
    "* upvote proportion and upvotes - downvotes\n",
    "* response time and answerer reputation based on question\n",
    "* answerer reputation based\n",
    "* "
   ]
  },
  {
   "cell_type": "markdown",
   "metadata": {},
   "source": [
    "* predicting upvotes vs downvotes (proportion? difference? either related to other answers?)\n",
    "* which factors contribute most? which features are correlated and can be eliminated? we predict that text won't do much\n",
    "* predicting answerer rep based on other factors\n",
    "* response time based on question\n",
    "* correlations:\n",
    "    * tags and views?\n",
    "    * length of question and upvotes/downvotes\n",
    "    * views and upvotes/downvotes\n",
    "    * upvotes/downvotes and upvotes+downvotes\n",
    "* "
   ]
  },
  {
   "cell_type": "code",
   "execution_count": null,
   "metadata": {
    "collapsed": true
   },
   "outputs": [],
   "source": []
  }
 ],
 "metadata": {
  "anaconda-cloud": {},
  "kernelspec": {
   "display_name": "Python [Root]",
   "language": "python",
   "name": "Python [Root]"
  },
  "language_info": {
   "codemirror_mode": {
    "name": "ipython",
    "version": 2
   },
   "file_extension": ".py",
   "mimetype": "text/x-python",
   "name": "python",
   "nbconvert_exporter": "python",
   "pygments_lexer": "ipython2",
   "version": "2.7.12"
  }
 },
 "nbformat": 4,
 "nbformat_minor": 0
}
