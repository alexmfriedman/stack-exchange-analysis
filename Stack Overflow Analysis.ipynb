{
 "cells": [
  {
   "cell_type": "code",
   "execution_count": 98,
   "metadata": {
    "collapsed": false
   },
   "outputs": [],
   "source": [
    "import requests\n",
    "import tempfile\n",
    "import shutil\n",
    "import subprocess\n",
    "import shlex\n",
    "import os\n",
    "import sqlite3\n",
    "import pandas\n",
    "import xml.etree.cElementTree as etree\n",
    "\n",
    "import matplotlib\n",
    "import matplotlib.pyplot as plt\n",
    "%matplotlib inline\n",
    "plt.style.use('ggplot')"
   ]
  },
  {
   "cell_type": "markdown",
   "metadata": {},
   "source": [
    "# Stack Exchange Analysis\n",
    "\n",
    "# Introduction\n",
    "\n",
    "We will analyze the components of questions and answers on Stack Exchange in order to understand what determines the quality of an answer. We will begin by understanding our data by predicting correlations in the data and evaluating our predictions by graphing the data. We will then begin to analyze the data by learning to predict several features. We will then work to predict the quality score of an answer given other features."
   ]
  },
  {
   "cell_type": "markdown",
   "metadata": {},
   "source": [
    "## Table of Contents\n",
    "\n",
    "* [Processing the Data](#Processing-the-Data)\n",
    "    * [Downloading the Data](#Downloading-the-data)\n",
    "* [Predictions](#Predictions)\n",
    "* [Answer Quality](#Answer-Quality)"
   ]
  },
  {
   "cell_type": "markdown",
   "metadata": {},
   "source": [
    "# Processing the Data\n",
    "\n",
    "## Downloading the data\n",
    "Our first step is to download the [data dumps](https://archive.org/details/stackexchange). Currently, the Stack Exchange Network hosts their data dumps through the [Internet Archive](https://archive.org/). Dump files are provided for each network (aside from StackOverflow for which there are multiple files) and are compressed using the 7z archive format. Thus, the code below to download and uncompress the data archive requires having the `7z` binary, acquirable through `apt-get`, `brew` and other package managers."
   ]
  },
  {
   "cell_type": "code",
   "execution_count": 99,
   "metadata": {
    "collapsed": false
   },
   "outputs": [],
   "source": [
    "def get_network_data(network, path=''):\n",
    "    '''downloads StackExchange network data from archive.org'''\n",
    "\n",
    "    # download archive\n",
    "    url = 'https://archive.org/download/stackexchange/%s.stackexchange.com.7z' % network\n",
    "    response = requests.get(url)\n",
    "    \n",
    "    with tempfile.NamedTemporaryFile('wb') as f:\n",
    "        # copy 7z archive into the filesystem\n",
    "        response.raw.decode_content = False\n",
    "        f.write(response.content)\n",
    "        f.flush()\n",
    "        \n",
    "        # create a folder to store the XML data\n",
    "        path = os.path.join(path, network)\n",
    "        if not os.path.exists(path):\n",
    "            os.makedirs(path)\n",
    "\n",
    "        # there are few Python 7z compatible libraries and they don't\n",
    "        # work correctly with these archives (overwrite switch enabled)\n",
    "        args = shlex.split('7z x %s -aoa \"-o%s\"' % (f.name, path))\n",
    "        return subprocess.check_call(args)"
   ]
  },
  {
   "cell_type": "code",
   "execution_count": 100,
   "metadata": {
    "collapsed": false
   },
   "outputs": [
    {
     "data": {
      "text/plain": [
       "0"
      ]
     },
     "execution_count": 100,
     "metadata": {},
     "output_type": "execute_result"
    }
   ],
   "source": [
    "network = 'arduino'\n",
    "get_network_data(network)"
   ]
  },
  {
   "cell_type": "markdown",
   "metadata": {
    "collapsed": true
   },
   "source": [
    "## Creating the Database\n",
    "\n",
    "Now that we've downloaded the archive, it's time to load the XML data within it into a database that can be easily queried when we're building our features. The [README](https://ia800500.us.archive.org/22/items/stackexchange/readme.txt) provided with the data dump describes the schema of each table and below we provide a visualization of these tables as well as the types of each field once we load them into our database. This visualization was created with the use of [WWW SQL Designer](https://ondras.zarovi.cz/sql/demo/). We note that the `posts` table covers both answers and questions and that `badges` are awards of a sort that users recieve for achieving certain milestones. While we deemphasize some of these tables throughout the feature engineering process, we nevertheless mention them here and process them for the sake of completeness."
   ]
  },
  {
   "cell_type": "markdown",
   "metadata": {},
   "source": [
    "![Database schema](schema.png)"
   ]
  },
  {
   "cell_type": "markdown",
   "metadata": {},
   "source": [
    "Next, we create a SQLite database conforming to the above schema (duplicated below as a Python dictionary). Inspiration is taken from [zhangqiaorjc/sedumpy](https://github.com/zhangqiaorjc/sedumpy/blob/master/makedb.py)."
   ]
  },
  {
   "cell_type": "code",
   "execution_count": 78,
   "metadata": {
    "collapsed": true
   },
   "outputs": [],
   "source": [
    "schema = {\n",
    "    'badges': {\n",
    "        'Id': 'INTEGER PRIMARY KEY',\n",
    "        'UserId': 'INTEGER',\n",
    "        'Name': 'VARCHAR(50)',\n",
    "        'Date': 'DATETIME',\n",
    "        'Class': 'INTEGER',\n",
    "        'TagBased': 'VARCHAR(8)',\n",
    "    },\n",
    "    'comments': {\n",
    "        'Id': 'INTEGER PRIMARY KEY',\n",
    "        'PostId': 'INTEGER',\n",
    "        'Score': 'INTEGER',\n",
    "        'Text': 'TEXT',\n",
    "        'CreationDate': 'DATETIME',\n",
    "        'UserId': 'INTEGER',\n",
    "        'UserDisplayName': 'VARCHAR(256)',\n",
    "    },\n",
    "    'posts': {\n",
    "        'Id': 'INTEGER PRIMARY KEY',\n",
    "        'PostTypeId': 'INTEGER', # 1: Question, 2: Answer\n",
    "        'ParentId': 'INTEGER', # present only if PostTypeId = 2\n",
    "        'AcceptedAnswerId': 'INTEGER', # present only if PostTypeId = 1\n",
    "        'CreationDate': 'DATETIME',\n",
    "        'Score': 'INTEGER',\n",
    "        'ViewCount': 'INTEGER',\n",
    "        'Body': 'TEXT',\n",
    "        'OwnerUserId': 'INTEGER', # present only if user has not been deleted\n",
    "        'LastEditorUserId': 'INTEGER',\n",
    "        'LastEditDate': 'DATETIME',\n",
    "        'LastActivityDate': 'DATETIME',\n",
    "        'Title': 'VARCHAR(256)',\n",
    "        'Tags': 'VARCHAR(256)',\n",
    "        'AnswerCount': 'INTEGER',\n",
    "        'CommentCount': 'INTEGER',\n",
    "        'FavoriteCount': 'INTEGER',\n",
    "        'ClosedDate': 'DATETIME',\n",
    "        'CommunityOwnedDate': 'DATETIME',\n",
    "        'OwnerDisplayName': 'VARCHAR(256)',\n",
    "        'LastEditorDisplayName': 'VARCHAR(256)',\n",
    "    },\n",
    "    'votes': {\n",
    "        'Id': 'INTEGER PRIMARY KEY',\n",
    "        'PostId': 'INTEGER',\n",
    "        'UserId': 'INTEGER',\n",
    "        'VoteTypeId': 'INTEGER',\n",
    "            # 1: AcceptedByOriginator\n",
    "            # 2: UpMod\n",
    "            # 3: DownMod\n",
    "            # 4: Offensive\n",
    "            # 5: Favorite\n",
    "            # 6: Close\n",
    "            # 7: Reopen\n",
    "            # 8: BountyStart\n",
    "            # 9: BountyClose\n",
    "            # 10: Deletion\n",
    "            # 11: Undeletion\n",
    "            # 12: Spam\n",
    "            # 13: InformModerator\n",
    "        'CreationDate': 'DATETIME',\n",
    "        'BountyAmount': 'INTEGER',\n",
    "    },\n",
    "    'post_history': {\n",
    "        'Id': 'INTEGER PRIMARY KEY',\n",
    "        'PostHistoryTypeId': 'INTEGER',\n",
    "        'PostId': 'INTEGER',\n",
    "        'RevisionGUID': 'VARCHAR(36)',\n",
    "        'CreationDate': 'DATETIME',\n",
    "        'UserId': 'INTEGER',\n",
    "        'Comment': 'TEXT',\n",
    "        'Text': 'TEXT',\n",
    "        'UserDisplayName': 'VARCHAR(256)',\n",
    "    },\n",
    "    'post_links': {\n",
    "        'Id': 'INTEGER PRIMARY KEY',\n",
    "        'CreationDate': 'DATETIME',\n",
    "        'PostId': 'INTEGER',\n",
    "        'RelatedPostId': 'INTEGER',\n",
    "        'LinkTypeId': 'INTEGER',\n",
    "    },\n",
    "    'users': {\n",
    "        'Id': 'INTEGER PRIMARY KEY',\n",
    "        'Reputation': 'INTEGER',\n",
    "        'CreationDate': 'DATETIME',\n",
    "        'DisplayName': 'VARCHAR(50)',\n",
    "        'LastAccessDate': 'DATETIME',\n",
    "        'WebsiteUrl': 'VARCHAR(256)',\n",
    "        'Location': 'VARCHAR(256)',\n",
    "        'Age': 'INTEGER',\n",
    "        'AboutMe': 'TEXT',\n",
    "        'Views': 'INTEGER',\n",
    "        'UpVotes': 'INTEGER',\n",
    "        'DownVotes': 'INTEGER',\n",
    "        'AccountId': 'INTEGER',\n",
    "        'ProfileImageUrl': 'VARCHAR(256)',\n",
    "    },\n",
    "    'tags': {\n",
    "        'Id': 'INTEGER PRIMARY KEY',\n",
    "        'TagName': 'TEXT',\n",
    "        'Count': 'INTEGER',\n",
    "        'ExcerptPostId': 'INTEGER',\n",
    "        'WikiPostId': 'INTEGER',\n",
    "    }\n",
    "}\n",
    "\n",
    "def create_table(c, name, constraints=[]):\n",
    "    '''Creates a single table under the schema given its name and constraints'''\n",
    "    fields = list(map(lambda x: '%s %s' % x, schema[name].items()))\n",
    "    c.execute(\n",
    "        'CREATE TABLE %s (%s)' % (\n",
    "            name,\n",
    "            ', '.join(fields + constraints)\n",
    "        )\n",
    "    )\n",
    "\n",
    "def create_database(network, path='', database=None):\n",
    "    '''Creates a database containing all the Stack Exchange network data'''\n",
    "    \n",
    "    # choose a name for the database\n",
    "    if not database:\n",
    "        database = '%s.db' % network\n",
    "    database = os.path.join(path, database)\n",
    "    \n",
    "    conn = sqlite3.connect(database)\n",
    "    \n",
    "    c = conn.cursor()\n",
    "    \n",
    "    create_table(c, 'users')\n",
    "    create_table(c, 'badges', ['FOREIGN KEY(UserId) REFERENCES users(Id)'])\n",
    "    create_table(c, 'posts', [\n",
    "        'FOREIGN KEY(AcceptedAnswerId) REFERENCES posts(Id)',\n",
    "        'FOREIGN KEY(ParentId) REFERENCES posts(Id)',\n",
    "        'FOREIGN KEY(OwnerUserId) REFERENCES users(Id)'\n",
    "    ])\n",
    "    create_table(c, 'votes', [\n",
    "        'FOREIGN KEY(PostId) REFERENCES posts(Id)',\n",
    "        'FOREIGN KEY(UserId) REFERENCES users(Id)'\n",
    "    ])\n",
    "    create_table(c, 'tags', [\n",
    "        'FOREIGN KEY(WikiPostId) REFERENCES posts(Id)',\n",
    "        'FOREIGN KEY(ExcerptPostId) REFERENCES posts(Id)'\n",
    "    ])\n",
    "    create_table(c, 'comments', [\n",
    "        'FOREIGN KEY(PostId) REFERENCES posts(Id)',\n",
    "        'FOREIGN KEY(UserId) REFERENCES users(Id)'\n",
    "    ])\n",
    "    create_table(c, 'post_history', [\n",
    "        'FOREIGN KEY(PostId) REFERENCES posts(Id)',\n",
    "        'FOREIGN KEY(UserId) REFERENCES users(Id)'\n",
    "    ])\n",
    "    create_table(c, 'post_links', [\n",
    "        'FOREIGN KEY(PostId) REFERENCES posts(Id)',\n",
    "    ])\n",
    "    \n",
    "    conn.commit()\n",
    "    \n",
    "    return (conn, database)\n"
   ]
  },
  {
   "cell_type": "code",
   "execution_count": 79,
   "metadata": {
    "collapsed": false
   },
   "outputs": [],
   "source": [
    "conn, database = create_database(network)"
   ]
  },
  {
   "cell_type": "markdown",
   "metadata": {},
   "source": [
    "### Creating Database Indices\n",
    "\n",
    "We then create a series of indices to make our later queries faster,"
   ]
  },
  {
   "cell_type": "code",
   "execution_count": 80,
   "metadata": {
    "collapsed": true
   },
   "outputs": [],
   "source": [
    "def create_indices(conn):\n",
    "    '''creates indices on the tables to speed up later queries'''\n",
    "    c = conn.cursor()\n",
    "\n",
    "    c.execute('CREATE INDEX badges_idx_1 ON badges(UserId);')\n",
    "\n",
    "    c.execute('CREATE INDEX comments_idx_1 ON comments(PostId);')\n",
    "    c.execute('CREATE INDEX comments_idx_2 ON comments(UserId);')\n",
    "\n",
    "    c.execute('CREATE INDEX post_history_idx_1 ON post_history(PostId);')\n",
    "    c.execute('CREATE INDEX post_history_idx_2 ON post_history(UserId);')\n",
    "\n",
    "    c.execute('CREATE INDEX posts_idx_1 ON posts(AcceptedAnswerId);')\n",
    "    c.execute('CREATE INDEX posts_idx_2 ON posts(ParentId);')\n",
    "    c.execute('CREATE INDEX posts_idx_3 ON posts(OwnerUserId);')\n",
    "    c.execute('CREATE INDEX posts_idx_4 ON posts(LastEditorUserId);')\n",
    "\n",
    "    c.execute('CREATE INDEX votes_idx_1 ON votes(PostId);')\n",
    "    \n",
    "    conn.commit()"
   ]
  },
  {
   "cell_type": "code",
   "execution_count": 81,
   "metadata": {
    "collapsed": false
   },
   "outputs": [],
   "source": [
    "create_indices(conn)"
   ]
  },
  {
   "cell_type": "markdown",
   "metadata": {},
   "source": [
    "### Populating the Database\n",
    "\n",
    "Finally, we populate the database, one XML file at a time:"
   ]
  },
  {
   "cell_type": "code",
   "execution_count": 82,
   "metadata": {
    "collapsed": false
   },
   "outputs": [],
   "source": [
    "def xml_file_name(path, table):\n",
    "    '''returns the path to the XML file corresponding to a particular table'''\n",
    "    return os.path.join(path, ''.join(map(str.capitalize, table.split('_'))) + '.xml')\n",
    "\n",
    "def populate_data(conn, path):\n",
    "    '''populates all the network data given a path to a folder containing the XML dump files'''\n",
    "    c = conn.cursor()\n",
    "\n",
    "    # iterate over each table\n",
    "    for table in ['users', 'badges', 'posts', 'votes', 'tags', 'comments', 'post_history', 'post_links']:\n",
    "        tree = etree.iterparse(xml_file_name(path, table))\n",
    "        for _, record in tree:\n",
    "            if record.attrib.values():\n",
    "                query = 'INSERT INTO %s (%s) VALUES (%s)' % (\n",
    "                    table, \n",
    "                    ', '.join(record.attrib.keys()),\n",
    "                    ('?, ' * len(record.attrib.keys()))[:-2]\n",
    "                )\n",
    "                c.execute(query, record.attrib.values())\n",
    "        conn.commit()"
   ]
  },
  {
   "cell_type": "code",
   "execution_count": 83,
   "metadata": {
    "collapsed": false
   },
   "outputs": [],
   "source": [
    "populate_data(conn, network)"
   ]
  },
  {
   "cell_type": "markdown",
   "metadata": {},
   "source": [
    "Finally, let's do a little sanity checking to ensure that we've correctly populated the database:"
   ]
  },
  {
   "cell_type": "code",
   "execution_count": 84,
   "metadata": {
    "collapsed": true
   },
   "outputs": [],
   "source": [
    "def santity_check(conn, path):\n",
    "    c = conn.cursor()\n",
    "\n",
    "    entries = pandas.DataFrame(columns=['table', 'xml_entries', 'db_entries'])\n",
    "    \n",
    "    for table in schema.keys():\n",
    "        tree = etree.iterparse(xml_file_name(path, table))\n",
    "        xml_count = len(list(tree))\n",
    "        db_count = c.execute('SELECT COUNT(*) FROM %s' % table).fetchone()[0]\n",
    "        entries = entries.append([{'table': table, 'xml_entries': xml_count, 'db_entries': db_count}])\n",
    "    \n",
    "    entries['difference'] = (entries['xml_entries'] - entries['db_entries']).map(abs)\n",
    "    return entries"
   ]
  },
  {
   "cell_type": "code",
   "execution_count": 85,
   "metadata": {
    "collapsed": false
   },
   "outputs": [
    {
     "data": {
      "text/html": [
       "<div>\n",
       "<table border=\"1\" class=\"dataframe\">\n",
       "  <thead>\n",
       "    <tr style=\"text-align: right;\">\n",
       "      <th></th>\n",
       "      <th>table</th>\n",
       "      <th>xml_entries</th>\n",
       "      <th>db_entries</th>\n",
       "      <th>difference</th>\n",
       "    </tr>\n",
       "  </thead>\n",
       "  <tbody>\n",
       "    <tr>\n",
       "      <th>0</th>\n",
       "      <td>votes</td>\n",
       "      <td>44385.0</td>\n",
       "      <td>44384.0</td>\n",
       "      <td>1.0</td>\n",
       "    </tr>\n",
       "    <tr>\n",
       "      <th>0</th>\n",
       "      <td>comments</td>\n",
       "      <td>37438.0</td>\n",
       "      <td>37437.0</td>\n",
       "      <td>1.0</td>\n",
       "    </tr>\n",
       "    <tr>\n",
       "      <th>0</th>\n",
       "      <td>post_history</td>\n",
       "      <td>55411.0</td>\n",
       "      <td>55410.0</td>\n",
       "      <td>1.0</td>\n",
       "    </tr>\n",
       "    <tr>\n",
       "      <th>0</th>\n",
       "      <td>post_links</td>\n",
       "      <td>973.0</td>\n",
       "      <td>972.0</td>\n",
       "      <td>1.0</td>\n",
       "    </tr>\n",
       "    <tr>\n",
       "      <th>0</th>\n",
       "      <td>tags</td>\n",
       "      <td>286.0</td>\n",
       "      <td>285.0</td>\n",
       "      <td>1.0</td>\n",
       "    </tr>\n",
       "    <tr>\n",
       "      <th>0</th>\n",
       "      <td>posts</td>\n",
       "      <td>20007.0</td>\n",
       "      <td>20006.0</td>\n",
       "      <td>1.0</td>\n",
       "    </tr>\n",
       "    <tr>\n",
       "      <th>0</th>\n",
       "      <td>badges</td>\n",
       "      <td>24065.0</td>\n",
       "      <td>24064.0</td>\n",
       "      <td>1.0</td>\n",
       "    </tr>\n",
       "    <tr>\n",
       "      <th>0</th>\n",
       "      <td>users</td>\n",
       "      <td>17971.0</td>\n",
       "      <td>17970.0</td>\n",
       "      <td>1.0</td>\n",
       "    </tr>\n",
       "  </tbody>\n",
       "</table>\n",
       "</div>"
      ],
      "text/plain": [
       "          table  xml_entries  db_entries  difference\n",
       "0         votes      44385.0     44384.0         1.0\n",
       "0      comments      37438.0     37437.0         1.0\n",
       "0  post_history      55411.0     55410.0         1.0\n",
       "0    post_links        973.0       972.0         1.0\n",
       "0          tags        286.0       285.0         1.0\n",
       "0         posts      20007.0     20006.0         1.0\n",
       "0        badges      24065.0     24064.0         1.0\n",
       "0         users      17971.0     17970.0         1.0"
      ]
     },
     "execution_count": 85,
     "metadata": {},
     "output_type": "execute_result"
    }
   ],
   "source": [
    "santity_check(conn, network)"
   ]
  },
  {
   "cell_type": "markdown",
   "metadata": {},
   "source": [
    "# Predictions\n",
    "\n",
    "To begin to understand the data, we wanted to analyze several potential correlations. Notably, we anticipated correlations between:\n",
    "* upvote proportion and length of text of answers, because we expect longer answers to be more detailed\n",
    "* upvote proportion and upvotes + downvotes for questions/answers, because we expect a higher proportion of upvotes will correspond to more upvotes\n",
    "* reputation and upvote proportion for questions/answers, because we expect users with a good reputation will provide better answers\n",
    "* reputation and number of posts\n",
    "* question tags and views/response time, because we expect some topics to be searched more often than others (todo)\n",
    "\n",
    "We plotted scatter plots for each pair to visualize the data."
   ]
  },
  {
   "cell_type": "markdown",
   "metadata": {},
   "source": [
    "#### Upvote Proportion vs. Answer Length"
   ]
  },
  {
   "cell_type": "code",
   "execution_count": 103,
   "metadata": {
    "collapsed": false
   },
   "outputs": [
    {
     "data": {
      "image/png": "[encoded data removed]",
      "text/plain": [
       "<matplotlib.figure.Figure at 0x11dd2f890>"
      ]
     },
     "metadata": {},
     "output_type": "display_data"
    }
   ],
   "source": [
    "c = conn.cursor()\n",
    "\n",
    "upvote_proportion = c.execute('''SELECT CAST ((\n",
    "                                 SELECT COUNT(*) \n",
    "                                 FROM votes \n",
    "                                 WHERE votes.PostId = posts.Id AND VoteTypeId = 2\n",
    "                             ) AS FLOAT) / ((\n",
    "                                 SELECT COUNT(*) \n",
    "                                 FROM votes \n",
    "                                 WHERE votes.PostId = posts.Id AND VoteTypeId = 2\n",
    "                             ) + (\n",
    "                                 SELECT COUNT(*) \n",
    "                                 FROM votes \n",
    "                                 WHERE votes.PostId = posts.Id AND VoteTypeId = 3\n",
    "                             ))\n",
    "                         FROM posts\n",
    "                         WHERE PostTypeId = 2\n",
    "                         ORDER BY Id ASC''') #2 is upvote, 3 is downvote\n",
    "\n",
    "upvote_proportion_arr = upvote_proportion.fetchall()\n",
    "\n",
    "lengths = c.execute('''SELECT LENGTH(Body)\n",
    "                         FROM posts\n",
    "                         WHERE PostTypeId = 2\n",
    "                         ORDER BY Id ASC''')\n",
    "\n",
    "lengths_arr = lengths.fetchall()\n",
    "\n",
    "p = plt.scatter(lengths_arr, upvote_proportion_arr)\n",
    "plt.show()"
   ]
  },
  {
   "cell_type": "markdown",
   "metadata": {},
   "source": [
    "#### Upvote Proportion vs. Total Votes"
   ]
  },
  {
   "cell_type": "code",
   "execution_count": 131,
   "metadata": {
    "collapsed": false
   },
   "outputs": [
    {
     "data": {
      "image/png": "[encoded data removed]",
      "text/plain": [
       "<matplotlib.figure.Figure at 0x11f044b50>"
      ]
     },
     "metadata": {},
     "output_type": "display_data"
    }
   ],
   "source": [
    "total_votes = c.execute('''SELECT (\n",
    "                                 SELECT COUNT(*) \n",
    "                                 FROM votes \n",
    "                                 WHERE votes.PostId = posts.Id AND VoteTypeId = 2\n",
    "                             ) + (\n",
    "                                 SELECT COUNT(*) \n",
    "                                 FROM votes \n",
    "                                 WHERE votes.PostId = posts.Id AND VoteTypeId = 3\n",
    "                             )\n",
    "                         FROM posts\n",
    "                         WHERE PostTypeId = 2\n",
    "                         ORDER BY Id ASC''') #2 is upvote, 3 is downvote\n",
    "\n",
    "total_votes_arr = total_votes.fetchall()\n",
    "\n",
    "p = plt.scatter(total_votes_arr, upvote_proportion_arr)\n",
    "plt.show()"
   ]
  },
  {
   "cell_type": "markdown",
   "metadata": {},
   "source": [
    "#### Upvote Proportion vs. Answerer Reputation"
   ]
  },
  {
   "cell_type": "code",
   "execution_count": 112,
   "metadata": {
    "collapsed": false
   },
   "outputs": [
    {
     "data": {
      "image/png": "[encoded data removed]",
      "text/plain": [
       "<matplotlib.figure.Figure at 0x1186ef850>"
      ]
     },
     "metadata": {},
     "output_type": "display_data"
    }
   ],
   "source": [
    "reputations = c.execute('''SELECT users.Reputation\n",
    "                           FROM posts\n",
    "                           LEFT JOIN users ON posts.OwnerUserId = users.Id\n",
    "                           WHERE posts.PostTypeId = 2\n",
    "                           ORDER BY posts.Id ASC''')\n",
    "\n",
    "reputations_arr = reputations.fetchall()\n",
    "\n",
    "p = plt.scatter(reputations_arr, upvote_proportion_arr)\n",
    "plt.show()"
   ]
  },
  {
   "cell_type": "markdown",
   "metadata": {},
   "source": [
    "#### Number of Posts vs. Reputation"
   ]
  },
  {
   "cell_type": "code",
   "execution_count": 130,
   "metadata": {
    "collapsed": false
   },
   "outputs": [
    {
     "data": {
      "image/png": "[encoded data removed]",
      "text/plain": [
       "<matplotlib.figure.Figure at 0x11dbba410>"
      ]
     },
     "metadata": {},
     "output_type": "display_data"
    }
   ],
   "source": [
    "rep_by_user = c.execute('''SELECT Reputation\n",
    "                           FROM users\n",
    "                           ORDER BY Id''')\n",
    "\n",
    "rep_by_user_arr = rep_by_user.fetchall()\n",
    "\n",
    "num_posts = c.execute('''SELECT COUNT(posts.Id)\n",
    "                         FROM users\n",
    "                         LEFT JOIN posts ON users.Id = posts.OwnerUserId\n",
    "                         GROUP BY users.Id\n",
    "                         ORDER BY users.Id''') #this includes all posts, not just answers\n",
    "\n",
    "num_posts_arr = num_posts.fetchall()\n",
    "\n",
    "p = plt.scatter(rep_by_user_arr, num_posts_arr)\n",
    "plt.show()"
   ]
  },
  {
   "cell_type": "markdown",
   "metadata": {},
   "source": [
    "#### Mean Response Time vs. Tags"
   ]
  },
  {
   "cell_type": "code",
   "execution_count": null,
   "metadata": {
    "collapsed": true
   },
   "outputs": [],
   "source": []
  },
  {
   "cell_type": "markdown",
   "metadata": {},
   "source": [
    "# Answer Quality\n",
    "\n",
    "Now that we have a basic understanding of our data, we will try to understand the quality of an answer. We will measure answer quality in both:\n",
    "\n",
    "$$upvotes$$\n",
    "\n",
    "and\n",
    "\n",
    "$$upvote\\ proportion = \\frac{upvotes}{upvotes + downvotes}$$\n",
    "\n",
    "We must understand the following:\n",
    "\n",
    "* Cause of Answerer Reputation, factors that correlate to Answerer Reputation\n",
    "* (REMOVE) Relationship between quality score and total votes\n",
    "* Difficulty of a question, measured in question text and response time\n",
    "* Trends over time (year and month of year), measured in changes to Answer Quality and response time over time\n",
    "\n",
    "And finally, we will determine:\n",
    "* Answer Quality based on other features"
   ]
  },
  {
   "cell_type": "markdown",
   "metadata": {},
   "source": [
    "## Understanding Answerer Reputation"
   ]
  },
  {
   "cell_type": "markdown",
   "metadata": {},
   "source": [
    "## Quality score vs. total votes"
   ]
  },
  {
   "cell_type": "markdown",
   "metadata": {},
   "source": [
    "## Difficulty of Question"
   ]
  },
  {
   "cell_type": "markdown",
   "metadata": {},
   "source": [
    "## Trends over Time"
   ]
  },
  {
   "cell_type": "markdown",
   "metadata": {},
   "source": [
    "## Relationship of features to Answer Quality"
   ]
  }
 ],
 "metadata": {
  "anaconda-cloud": {},
  "kernelspec": {
   "display_name": "Python [Root]",
   "language": "python",
   "name": "Python [Root]"
  },
  "language_info": {
   "codemirror_mode": {
    "name": "ipython",
    "version": 2
   },
   "file_extension": ".py",
   "mimetype": "text/x-python",
   "name": "python",
   "nbconvert_exporter": "python",
   "pygments_lexer": "ipython2",
   "version": "2.7.12"
  }
 },
 "nbformat": 4,
 "nbformat_minor": 0
}
