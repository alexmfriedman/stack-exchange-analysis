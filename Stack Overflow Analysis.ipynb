{
 "cells": [
  {
   "cell_type": "code",
   "execution_count": null,
   "metadata": {
    "collapsed": false
   },
   "outputs": [],
   "source": [
    "import requests\n",
    "import tempfile\n",
    "import shutil\n",
    "import subprocess\n",
    "import shlex\n",
    "import os"
   ]
  },
  {
   "cell_type": "markdown",
   "metadata": {},
   "source": [
    "# Stack Exchange Analysis\n",
    "\n"
   ]
  },
  {
   "cell_type": "code",
   "execution_count": null,
   "metadata": {
    "collapsed": false
   },
   "outputs": [],
   "source": [
    "def get_network_data(network, path=''):\n",
    "    # download archive\n",
    "    url = 'https://archive.org/download/stackexchange/%s.stackexchange.com.7z' % network\n",
    "    response = requests.get(url)\n",
    "    \n",
    "    with tempfile.NamedTemporaryFile('wb') as f:\n",
    "        # copy 7z archive into the filesystem\n",
    "        response.raw.decode_content = False\n",
    "        f.write(response.content)\n",
    "        f.flush()\n",
    "        \n",
    "        # create a folder to store the XML data\n",
    "        path = os.path.join(path, network)\n",
    "        if not os.path.exists(path):\n",
    "            os.makedirs(path)\n",
    "\n",
    "        # there are few Python 7z compatible libraries and they don't\n",
    "        # work correctly with these archives (overwrite switch enabled)\n",
    "        args = shlex.split('7z x %s -aoa \"-o%s\"' % (f.name, path))\n",
    "        return subprocess.check_call(args)\n",
    "\n",
    "get_network_data('ai')"
   ]
  },
  {
   "cell_type": "code",
   "execution_count": null,
   "metadata": {
    "collapsed": true
   },
   "outputs": [],
   "source": []
  }
 ],
 "metadata": {
  "anaconda-cloud": {},
  "kernelspec": {
   "display_name": "Python [Root]",
   "language": "python",
   "name": "Python [Root]"
  }
 },
 "nbformat": 4,
 "nbformat_minor": 0
}
