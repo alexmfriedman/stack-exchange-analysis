{
 "cells": [
  {
   "cell_type": "code",
   "execution_count": 3,
   "metadata": {
    "collapsed": false
   },
   "outputs": [],
   "source": [
    "import requests\n",
    "import tempfile\n",
    "import shutil\n",
    "import subprocess\n",
    "import shlex\n",
    "import os\n",
    "import sqlite3\n",
    "import pandas\n",
    "import xml.etree.cElementTree as etree\n",
    "\n",
    "import matplotlib\n",
    "import matplotlib.pyplot as plt\n",
    "%matplotlib inline\n",
    "plt.style.use('ggplot')"
   ]
  },
  {
   "cell_type": "markdown",
   "metadata": {},
   "source": [
    "# Stack Exchange Analysis\n",
    "\n",
    "# Introduction\n",
    "\n",
    "Stack Exchange is a network of over 150 question and answer communities including Stack Overflow. Communities are self-moderating through the use of reputation that is primarily acquired through answering and asking questions. Throughout this report, we will analyze the questions and answers on Stack Exchange in order to understand what determines the quality of an answer. We will begin by understanding our data by predicting correlations in the data and evaluating our predictions by graphing the data. We will then begin to analyze the data by learning to predict several features. We will then work to predict the score of an answer given other features."
   ]
  },
  {
   "cell_type": "markdown",
   "metadata": {},
   "source": [
    "## Table of Contents\n",
    "\n",
    "* [Processing the Data](#Processing-the-Data)\n",
    "    * [Downloading the Data](#Downloading-the-Data)\n",
    "    * [Creating the Database](#Creating-the-Database)\n",
    "    * [Creating Database Indices](#Creating-Database-Indices)\n",
    "    * [Populating the Database](#Populating-the-Database)\n",
    "    * [Sanity Checking](#Sanity-Checking)\n",
    "* [Questions](#Questions)\n",
    "* [Features](#Features)"
   ]
  },
  {
   "cell_type": "markdown",
   "metadata": {},
   "source": [
    "# Processing the Data\n",
    "\n",
    "## Downloading the Data\n",
    "Our first step is to download the [data dumps](https://archive.org/details/stackexchange). Currently, the Stack Exchange Network hosts their data dumps through the [Internet Archive](https://archive.org/). Dump files are provided for each network (aside from StackOverflow for which there are multiple files) and are compressed using the 7z archive format. Thus, the code below to download and uncompress the data archive requires having the `7z` binary, acquirable through `apt-get`, `brew` and other package managers."
   ]
  },
  {
   "cell_type": "code",
   "execution_count": 4,
   "metadata": {
    "collapsed": false
   },
   "outputs": [],
   "source": [
    "def get_network_data(network, path=''):\n",
    "    '''downloads StackExchange network data from archive.org'''\n",
    "\n",
    "    # download archive\n",
    "    url = 'https://archive.org/download/stackexchange/%s.stackexchange.com.7z' % network\n",
    "    response = requests.get(url)\n",
    "    \n",
    "    with tempfile.NamedTemporaryFile('wb') as f:\n",
    "        # copy 7z archive into the filesystem\n",
    "        response.raw.decode_content = False\n",
    "        f.write(response.content)\n",
    "        f.flush()\n",
    "        \n",
    "        # create a folder to store the XML data\n",
    "        path = os.path.join(path, network)\n",
    "        if not os.path.exists(path):\n",
    "            os.makedirs(path)\n",
    "\n",
    "        # there are few Python 7z compatible libraries and they don't\n",
    "        # work correctly with these archives (overwrite switch enabled)\n",
    "        args = shlex.split('7z x %s -aoa \"-o%s\"' % (f.name, path))\n",
    "        return subprocess.check_call(args)"
   ]
  },
  {
   "cell_type": "code",
   "execution_count": 5,
   "metadata": {
    "collapsed": false
   },
   "outputs": [
    {
     "data": {
      "text/plain": [
       "0"
      ]
     },
     "execution_count": 5,
     "metadata": {},
     "output_type": "execute_result"
    }
   ],
   "source": [
    "network = 'stats'\n",
    "get_network_data(network)"
   ]
  },
  {
   "cell_type": "markdown",
   "metadata": {
    "collapsed": true
   },
   "source": [
    "## Creating the Database\n",
    "\n",
    "Now that we've downloaded the archive, it's time to load the XML data within it into a database that can be easily queried when we're building our features. The [README](https://ia800500.us.archive.org/22/items/stackexchange/readme.txt) provided with the data dump describes the schema of each table and below we provide a visualization of these tables as well as the types of each field once we load them into our database. This visualization was created with the use of [WWW SQL Designer](https://ondras.zarovi.cz/sql/demo/). We note that the `posts` table covers both answers and questions and that `badges` are awards of a sort that users recieve for achieving certain milestones. While we deemphasize some of these tables throughout the feature engineering process, we nevertheless mention them here and process them for the sake of completeness."
   ]
  },
  {
   "cell_type": "markdown",
   "metadata": {},
   "source": [
    "![Database schema](schema.png)"
   ]
  },
  {
   "cell_type": "markdown",
   "metadata": {},
   "source": [
    "Next, we create a SQLite database conforming to the above schema (duplicated below as a Python dictionary). Inspiration is taken from [zhangqiaorjc/sedumpy](https://github.com/zhangqiaorjc/sedumpy/blob/master/makedb.py)."
   ]
  },
  {
   "cell_type": "code",
   "execution_count": 6,
   "metadata": {
    "collapsed": true
   },
   "outputs": [],
   "source": [
    "schema = {\n",
    "    'badges': {\n",
    "        'Id': 'INTEGER PRIMARY KEY',\n",
    "        'UserId': 'INTEGER',\n",
    "        'Name': 'VARCHAR(50)',\n",
    "        'Date': 'DATETIME',\n",
    "        'Class': 'INTEGER',\n",
    "        'TagBased': 'VARCHAR(8)',\n",
    "    },\n",
    "    'comments': {\n",
    "        'Id': 'INTEGER PRIMARY KEY',\n",
    "        'PostId': 'INTEGER',\n",
    "        'Score': 'INTEGER',\n",
    "        'Text': 'TEXT',\n",
    "        'CreationDate': 'DATETIME',\n",
    "        'UserId': 'INTEGER',\n",
    "        'UserDisplayName': 'VARCHAR(256)',\n",
    "    },\n",
    "    'posts': {\n",
    "        'Id': 'INTEGER PRIMARY KEY',\n",
    "        'PostTypeId': 'INTEGER', # 1: Question, 2: Answer\n",
    "        'ParentId': 'INTEGER', # present only if PostTypeId = 2\n",
    "        'AcceptedAnswerId': 'INTEGER', # present only if PostTypeId = 1\n",
    "        'CreationDate': 'DATETIME',\n",
    "        'Score': 'INTEGER',\n",
    "        'ViewCount': 'INTEGER',\n",
    "        'Body': 'TEXT',\n",
    "        'OwnerUserId': 'INTEGER', # present only if user has not been deleted\n",
    "        'LastEditorUserId': 'INTEGER',\n",
    "        'LastEditDate': 'DATETIME',\n",
    "        'LastActivityDate': 'DATETIME',\n",
    "        'Title': 'VARCHAR(256)',\n",
    "        'Tags': 'VARCHAR(256)',\n",
    "        'AnswerCount': 'INTEGER',\n",
    "        'CommentCount': 'INTEGER',\n",
    "        'FavoriteCount': 'INTEGER',\n",
    "        'ClosedDate': 'DATETIME',\n",
    "        'CommunityOwnedDate': 'DATETIME',\n",
    "        'OwnerDisplayName': 'VARCHAR(256)',\n",
    "        'LastEditorDisplayName': 'VARCHAR(256)',\n",
    "    },\n",
    "    'votes': {\n",
    "        'Id': 'INTEGER PRIMARY KEY',\n",
    "        'PostId': 'INTEGER',\n",
    "        'UserId': 'INTEGER',\n",
    "        'VoteTypeId': 'INTEGER',\n",
    "            # 1: AcceptedByOriginator\n",
    "            # 2: UpMod\n",
    "            # 3: DownMod\n",
    "            # 4: Offensive\n",
    "            # 5: Favorite\n",
    "            # 6: Close\n",
    "            # 7: Reopen\n",
    "            # 8: BountyStart\n",
    "            # 9: BountyClose\n",
    "            # 10: Deletion\n",
    "            # 11: Undeletion\n",
    "            # 12: Spam\n",
    "            # 13: InformModerator\n",
    "        'CreationDate': 'DATETIME',\n",
    "        'BountyAmount': 'INTEGER',\n",
    "    },\n",
    "    'post_history': {\n",
    "        'Id': 'INTEGER PRIMARY KEY',\n",
    "        'PostHistoryTypeId': 'INTEGER',\n",
    "        'PostId': 'INTEGER',\n",
    "        'RevisionGUID': 'VARCHAR(36)',\n",
    "        'CreationDate': 'DATETIME',\n",
    "        'UserId': 'INTEGER',\n",
    "        'Comment': 'TEXT',\n",
    "        'Text': 'TEXT',\n",
    "        'UserDisplayName': 'VARCHAR(256)',\n",
    "    },\n",
    "    'post_links': {\n",
    "        'Id': 'INTEGER PRIMARY KEY',\n",
    "        'CreationDate': 'DATETIME',\n",
    "        'PostId': 'INTEGER',\n",
    "        'RelatedPostId': 'INTEGER',\n",
    "        'LinkTypeId': 'INTEGER',\n",
    "    },\n",
    "    'users': {\n",
    "        'Id': 'INTEGER PRIMARY KEY',\n",
    "        'Reputation': 'INTEGER',\n",
    "        'CreationDate': 'DATETIME',\n",
    "        'DisplayName': 'VARCHAR(50)',\n",
    "        'LastAccessDate': 'DATETIME',\n",
    "        'WebsiteUrl': 'VARCHAR(256)',\n",
    "        'Location': 'VARCHAR(256)',\n",
    "        'Age': 'INTEGER',\n",
    "        'AboutMe': 'TEXT',\n",
    "        'Views': 'INTEGER',\n",
    "        'UpVotes': 'INTEGER',\n",
    "        'DownVotes': 'INTEGER',\n",
    "        'AccountId': 'INTEGER',\n",
    "        'ProfileImageUrl': 'VARCHAR(256)',\n",
    "    },\n",
    "    'tags': {\n",
    "        'Id': 'INTEGER PRIMARY KEY',\n",
    "        'TagName': 'TEXT',\n",
    "        'Count': 'INTEGER',\n",
    "        'ExcerptPostId': 'INTEGER',\n",
    "        'WikiPostId': 'INTEGER',\n",
    "    }\n",
    "}\n",
    "\n",
    "def create_table(c, name, constraints=[]):\n",
    "    '''Creates a single table under the schema given its name and constraints'''\n",
    "    fields = list(map(lambda x: '%s %s' % x, schema[name].items()))\n",
    "    c.execute(\n",
    "        'CREATE TABLE %s (%s)' % (\n",
    "            name,\n",
    "            ', '.join(fields + constraints)\n",
    "        )\n",
    "    )\n",
    "\n",
    "def create_database(network, path='', database=None):\n",
    "    '''Creates a database containing all the Stack Exchange network data'''\n",
    "    \n",
    "    # choose a name for the database\n",
    "    if not database:\n",
    "        database = '%s.db' % network\n",
    "    database = os.path.join(path, database)\n",
    "    \n",
    "    conn = sqlite3.connect(database)\n",
    "    \n",
    "    c = conn.cursor()\n",
    "    \n",
    "    create_table(c, 'users')\n",
    "    create_table(c, 'badges', ['FOREIGN KEY(UserId) REFERENCES users(Id)'])\n",
    "    create_table(c, 'posts', [\n",
    "        'FOREIGN KEY(AcceptedAnswerId) REFERENCES posts(Id)',\n",
    "        'FOREIGN KEY(ParentId) REFERENCES posts(Id)',\n",
    "        'FOREIGN KEY(OwnerUserId) REFERENCES users(Id)'\n",
    "    ])\n",
    "    create_table(c, 'votes', [\n",
    "        'FOREIGN KEY(PostId) REFERENCES posts(Id)',\n",
    "        'FOREIGN KEY(UserId) REFERENCES users(Id)'\n",
    "    ])\n",
    "    create_table(c, 'tags', [\n",
    "        'FOREIGN KEY(WikiPostId) REFERENCES posts(Id)',\n",
    "        'FOREIGN KEY(ExcerptPostId) REFERENCES posts(Id)'\n",
    "    ])\n",
    "    create_table(c, 'comments', [\n",
    "        'FOREIGN KEY(PostId) REFERENCES posts(Id)',\n",
    "        'FOREIGN KEY(UserId) REFERENCES users(Id)'\n",
    "    ])\n",
    "    create_table(c, 'post_history', [\n",
    "        'FOREIGN KEY(PostId) REFERENCES posts(Id)',\n",
    "        'FOREIGN KEY(UserId) REFERENCES users(Id)'\n",
    "    ])\n",
    "    create_table(c, 'post_links', [\n",
    "        'FOREIGN KEY(PostId) REFERENCES posts(Id)',\n",
    "    ])\n",
    "    \n",
    "    conn.commit()\n",
    "    \n",
    "    return (conn, database)\n"
   ]
  },
  {
   "cell_type": "code",
   "execution_count": 7,
   "metadata": {
    "collapsed": false
   },
   "outputs": [],
   "source": [
    "conn, database = create_database(network)"
   ]
  },
  {
   "cell_type": "markdown",
   "metadata": {},
   "source": [
    "### Creating Database Indices\n",
    "\n",
    "We then create a series of indices to make our later queries faster,"
   ]
  },
  {
   "cell_type": "code",
   "execution_count": 8,
   "metadata": {
    "collapsed": true
   },
   "outputs": [],
   "source": [
    "def create_indices(conn):\n",
    "    '''creates indices on the tables to speed up later queries'''\n",
    "    c = conn.cursor()\n",
    "\n",
    "    c.execute('CREATE INDEX badges_idx_1 ON badges(UserId);')\n",
    "\n",
    "    c.execute('CREATE INDEX comments_idx_1 ON comments(PostId);')\n",
    "    c.execute('CREATE INDEX comments_idx_2 ON comments(UserId);')\n",
    "\n",
    "    c.execute('CREATE INDEX post_history_idx_1 ON post_history(PostId);')\n",
    "    c.execute('CREATE INDEX post_history_idx_2 ON post_history(UserId);')\n",
    "\n",
    "    c.execute('CREATE INDEX posts_idx_1 ON posts(AcceptedAnswerId);')\n",
    "    c.execute('CREATE INDEX posts_idx_2 ON posts(ParentId);')\n",
    "    c.execute('CREATE INDEX posts_idx_3 ON posts(OwnerUserId);')\n",
    "    c.execute('CREATE INDEX posts_idx_4 ON posts(LastEditorUserId);')\n",
    "\n",
    "    c.execute('CREATE INDEX votes_idx_1 ON votes(PostId);')\n",
    "    \n",
    "    conn.commit()"
   ]
  },
  {
   "cell_type": "code",
   "execution_count": 9,
   "metadata": {
    "collapsed": false
   },
   "outputs": [],
   "source": [
    "create_indices(conn)"
   ]
  },
  {
   "cell_type": "markdown",
   "metadata": {},
   "source": [
    "### Populating the Database\n",
    "\n",
    "Finally, we populate the database, one XML file at a time:"
   ]
  },
  {
   "cell_type": "code",
   "execution_count": 10,
   "metadata": {
    "collapsed": false
   },
   "outputs": [],
   "source": [
    "def xml_file_name(path, table):\n",
    "    '''returns the path to the XML file corresponding to a particular table'''\n",
    "    return os.path.join(path, ''.join(map(str.capitalize, table.split('_'))) + '.xml')\n",
    "\n",
    "def populate_data(conn, path):\n",
    "    '''populates all the network data given a path to a folder containing the XML dump files'''\n",
    "    c = conn.cursor()\n",
    "\n",
    "    # iterate over each table\n",
    "    for table in ['users', 'badges', 'posts', 'votes', 'tags', 'comments', 'post_history', 'post_links']:\n",
    "        tree = etree.iterparse(xml_file_name(path, table))\n",
    "        for _, record in tree:\n",
    "            if record.attrib.values():\n",
    "                query = 'INSERT INTO %s (%s) VALUES (%s)' % (\n",
    "                    table, \n",
    "                    ', '.join(record.attrib.keys()),\n",
    "                    ('?, ' * len(record.attrib.keys()))[:-2]\n",
    "                )\n",
    "                c.execute(query, record.attrib.values())\n",
    "        conn.commit()"
   ]
  },
  {
   "cell_type": "code",
   "execution_count": 11,
   "metadata": {
    "collapsed": false
   },
   "outputs": [],
   "source": [
    "populate_data(conn, network)"
   ]
  },
  {
   "cell_type": "markdown",
   "metadata": {},
   "source": [
    "## Sanity Checking \n",
    "\n",
    "Finally, let's do a little sanity checking to ensure that we've correctly populated the database:"
   ]
  },
  {
   "cell_type": "code",
   "execution_count": 27,
   "metadata": {
    "collapsed": false
   },
   "outputs": [],
   "source": [
    "def santity_check(conn, path):\n",
    "    '''returns a dataframe that compares the number of rows in the XML vs. the database'''\n",
    "    c = conn.cursor()\n",
    "\n",
    "    entries = pandas.DataFrame(columns=['table', 'xml_entries', 'db_entries'])\n",
    "    \n",
    "    for table in schema.keys():\n",
    "        tree = etree.parse(xml_file_name(path, table))\n",
    "        xml_count = len(list(tree.getroot().getchildren()))\n",
    "        db_count = c.execute('SELECT COUNT(*) FROM %s' % table).fetchone()[0]\n",
    "        entries = entries.append([{'table': table, 'xml_entries': xml_count, 'db_entries': db_count}])\n",
    "    \n",
    "    entries['difference'] = (entries['xml_entries'] - entries['db_entries']).map(abs)\n",
    "    return entries"
   ]
  },
  {
   "cell_type": "code",
   "execution_count": 28,
   "metadata": {
    "collapsed": false
   },
   "outputs": [
    {
     "data": {
      "text/html": [
       "<div>\n",
       "<table border=\"1\" class=\"dataframe\">\n",
       "  <thead>\n",
       "    <tr style=\"text-align: right;\">\n",
       "      <th></th>\n",
       "      <th>table</th>\n",
       "      <th>xml_entries</th>\n",
       "      <th>db_entries</th>\n",
       "      <th>difference</th>\n",
       "    </tr>\n",
       "  </thead>\n",
       "  <tbody>\n",
       "    <tr>\n",
       "      <th>0</th>\n",
       "      <td>votes</td>\n",
       "      <td>670393.0</td>\n",
       "      <td>670393.0</td>\n",
       "      <td>0.0</td>\n",
       "    </tr>\n",
       "    <tr>\n",
       "      <th>0</th>\n",
       "      <td>comments</td>\n",
       "      <td>334726.0</td>\n",
       "      <td>334726.0</td>\n",
       "      <td>0.0</td>\n",
       "    </tr>\n",
       "    <tr>\n",
       "      <th>0</th>\n",
       "      <td>post_history</td>\n",
       "      <td>582679.0</td>\n",
       "      <td>582679.0</td>\n",
       "      <td>0.0</td>\n",
       "    </tr>\n",
       "    <tr>\n",
       "      <th>0</th>\n",
       "      <td>post_links</td>\n",
       "      <td>29927.0</td>\n",
       "      <td>29927.0</td>\n",
       "      <td>0.0</td>\n",
       "    </tr>\n",
       "    <tr>\n",
       "      <th>0</th>\n",
       "      <td>tags</td>\n",
       "      <td>1309.0</td>\n",
       "      <td>1309.0</td>\n",
       "      <td>0.0</td>\n",
       "    </tr>\n",
       "    <tr>\n",
       "      <th>0</th>\n",
       "      <td>posts</td>\n",
       "      <td>173014.0</td>\n",
       "      <td>173014.0</td>\n",
       "      <td>0.0</td>\n",
       "    </tr>\n",
       "    <tr>\n",
       "      <th>0</th>\n",
       "      <td>badges</td>\n",
       "      <td>189079.0</td>\n",
       "      <td>189079.0</td>\n",
       "      <td>0.0</td>\n",
       "    </tr>\n",
       "    <tr>\n",
       "      <th>0</th>\n",
       "      <td>users</td>\n",
       "      <td>94432.0</td>\n",
       "      <td>94432.0</td>\n",
       "      <td>0.0</td>\n",
       "    </tr>\n",
       "  </tbody>\n",
       "</table>\n",
       "</div>"
      ],
      "text/plain": [
       "          table  xml_entries  db_entries  difference\n",
       "0         votes     670393.0    670393.0         0.0\n",
       "0      comments     334726.0    334726.0         0.0\n",
       "0  post_history     582679.0    582679.0         0.0\n",
       "0    post_links      29927.0     29927.0         0.0\n",
       "0          tags       1309.0      1309.0         0.0\n",
       "0         posts     173014.0    173014.0         0.0\n",
       "0        badges     189079.0    189079.0         0.0\n",
       "0         users      94432.0     94432.0         0.0"
      ]
     },
     "execution_count": 28,
     "metadata": {},
     "output_type": "execute_result"
    }
   ],
   "source": [
    "santity_check(conn, network)"
   ]
  },
  {
   "cell_type": "markdown",
   "metadata": {},
   "source": [
    "# Questions\n",
    "\n",
    "Under the Stack Exchange model, users can vote both questions and answers \"up\" or \"down.\" Semantically, for a question a vote indicates a user's belief regarding the question's validity and relevance whereas for an answer a vote indicates a user's belief regarding the answer's accuracy. These metrics are central to the function of a Stack Exchange network. We set out with the intention to answer a couple questions:\n",
    "\n",
    "1. Can we predict the quality, as measured by score, of a question?\n",
    "2. Can we predict the quality, as measured by score, of an answer?\n",
    "3. Can we predict the popularity, as measured by view count, of a question?\n",
    "4. Can we predict the number of votes of a question?\n",
    "5. Can we predict the number of votes of an answer?\n",
    "\n",
    "where score is defined as `upvotes - downvotes`.\n",
    "\n",
    "# Features\n",
    "\n",
    "We developed a set of features that could potentially be valuable in predicting scores by reflecting on our experiences with Stack Exchange.\n",
    "\n",
    "## Listing\n",
    "\n",
    "### Common Features\n",
    "These are features that are potentially relevant for both questons and answers:\n",
    "\n",
    "- Body length: longer answers could have more information within them and shorter questions could be more to the point and of higher quality\n",
    "- Author reputation: the reputation of a question/answer author tends to signal the quality of their posting\n",
    "- Comment count: posts with a larger quantity of comments could indicate their controversy \n",
    "- Time of day: given that a large number of the Stack Exchange network users are based in the United States, the time of posting could potentially influence the number of users that see the question and vote on it\n",
    "\n",
    "### Question Only\n",
    "These are features that only apply to questions:\n",
    "\n",
    "- Title length: shorter titles could be easier for users browsing the networks to understand\n",
    "- Number of tags: since users follows tags, the more tags a question has, the more users that could potentially see the question and vote on it\n",
    "- Sum of questions on tags: since the tags with the largest number of questions are the most visited, the higher this sum is, the more users that could potentially see the question and vote on it\n",
    "- View count: the more views a question has, the more potential votes it could receive\n",
    "\n",
    "### Answer Only\n",
    "These are features that only apply to answers:\n",
    "\n",
    "- Time since question posting: answers that are posted quickly after a question often tend to receive the most attention and thereby the most votes\n",
    "\n",
    "## Analysis\n",
    "In order to visualize the data better, we created scatter plots:"
   ]
  },
  {
   "cell_type": "markdown",
   "metadata": {},
   "source": [
    "# Predictions\n",
    "\n",
    "To begin to understand the data, we wanted to analyze several potential correlations. Notably, we anticipated correlations between:\n",
    "* quality score (will be formally defined) and length of text of answers, because we expect longer answers to be more detailed\n",
    "* quality score and upvotes + downvotes for questions/answers, because we expect a higher proportion of upvotes will correspond to more upvotes\n",
    "* reputation and upvote score for questions/answers, because we expect users with a good reputation will provide better answers\n",
    "* reputation and number of posts\n",
    "* question tags and views/response time, because we expect some topics to be searched more often than others (todo)\n",
    "\n",
    "We created scatter plots for each pair to visualize the data."
   ]
  },
  {
   "cell_type": "markdown",
   "metadata": {},
   "source": [
    "#### Upvote Proportion vs. Answer Length"
   ]
  },
  {
   "cell_type": "code",
   "execution_count": 15,
   "metadata": {
    "collapsed": false
   },
   "outputs": [
    {
     "data": {
      "image/png": "[encoded data removed]",
      "text/plain": [
       "<matplotlib.figure.Figure at 0x11bf8a710>"
      ]
     },
     "metadata": {},
     "output_type": "display_data"
    }
   ],
   "source": [
    "c = conn.cursor()\n",
    "\n",
    "upvote_proportion = c.execute('''SELECT CAST ((\n",
    "                                 SELECT COUNT(*) \n",
    "                                 FROM votes \n",
    "                                 WHERE votes.PostId = posts.Id AND VoteTypeId = 2\n",
    "                             ) AS FLOAT) / ((\n",
    "                                 SELECT COUNT(*) \n",
    "                                 FROM votes \n",
    "                                 WHERE votes.PostId = posts.Id AND VoteTypeId = 2\n",
    "                             ) + (\n",
    "                                 SELECT COUNT(*) \n",
    "                                 FROM votes \n",
    "                                 WHERE votes.PostId = posts.Id AND VoteTypeId = 3\n",
    "                             ))\n",
    "                         FROM posts\n",
    "                         WHERE PostTypeId = 2\n",
    "                         ORDER BY Id ASC''') #2 is upvote, 3 is downvote\n",
    "\n",
    "upvote_proportion_arr = upvote_proportion.fetchall()\n",
    "\n",
    "lengths = c.execute('''SELECT LENGTH(Body)\n",
    "                         FROM posts\n",
    "                         WHERE PostTypeId = 2\n",
    "                         ORDER BY Id ASC''')\n",
    "\n",
    "lengths_arr = lengths.fetchall()\n",
    "\n",
    "p = plt.scatter(lengths_arr, upvote_proportion_arr)\n",
    "plt.show()"
   ]
  },
  {
   "cell_type": "markdown",
   "metadata": {},
   "source": [
    "#### Upvote Proportion vs. Total Votes"
   ]
  },
  {
   "cell_type": "code",
   "execution_count": 16,
   "metadata": {
    "collapsed": false
   },
   "outputs": [
    {
     "data": {
      "image/png": "[encoded data removed]",
      "text/plain": [
       "<matplotlib.figure.Figure at 0x11fd93fd0>"
      ]
     },
     "metadata": {},
     "output_type": "display_data"
    }
   ],
   "source": [
    "total_votes = c.execute('''SELECT (\n",
    "                                 SELECT COUNT(*) \n",
    "                                 FROM votes \n",
    "                                 WHERE votes.PostId = posts.Id AND VoteTypeId = 2\n",
    "                             ) + (\n",
    "                                 SELECT COUNT(*) \n",
    "                                 FROM votes \n",
    "                                 WHERE votes.PostId = posts.Id AND VoteTypeId = 3\n",
    "                             )\n",
    "                         FROM posts\n",
    "                         WHERE PostTypeId = 2\n",
    "                         ORDER BY Id ASC''') #2 is upvote, 3 is downvote\n",
    "\n",
    "total_votes_arr = total_votes.fetchall()\n",
    "\n",
    "p = plt.scatter(total_votes_arr, upvote_proportion_arr)\n",
    "plt.show()"
   ]
  },
  {
   "cell_type": "markdown",
   "metadata": {},
   "source": [
    "#### Upvote Proportion vs. Answerer Reputation"
   ]
  },
  {
   "cell_type": "code",
   "execution_count": 17,
   "metadata": {
    "collapsed": false
   },
   "outputs": [
    {
     "data": {
      "image/png": "[encoded data removed]",
      "text/plain": [
       "<matplotlib.figure.Figure at 0x1161890d0>"
      ]
     },
     "metadata": {},
     "output_type": "display_data"
    }
   ],
   "source": [
    "reputations = c.execute('''SELECT users.Reputation\n",
    "                           FROM posts\n",
    "                           LEFT JOIN users ON posts.OwnerUserId = users.Id\n",
    "                           WHERE posts.PostTypeId = 2\n",
    "                           ORDER BY posts.Id ASC''')\n",
    "\n",
    "reputations_arr = reputations.fetchall()\n",
    "\n",
    "p = plt.scatter(reputations_arr, upvote_proportion_arr)\n",
    "plt.show()"
   ]
  },
  {
   "cell_type": "markdown",
   "metadata": {},
   "source": [
    "#### Number of Posts vs. Reputation"
   ]
  },
  {
   "cell_type": "code",
   "execution_count": 21,
   "metadata": {
    "collapsed": false
   },
   "outputs": [
    {
     "data": {
      "image/png": "[encoded data removed]",
      "text/plain": [
       "<matplotlib.figure.Figure at 0x11c093f90>"
      ]
     },
     "metadata": {},
     "output_type": "display_data"
    }
   ],
   "source": [
    "rep_by_user = c.execute('''SELECT Reputation\n",
    "                           FROM users\n",
    "                           ORDER BY Id''')\n",
    "\n",
    "rep_by_user_arr = rep_by_user.fetchall()\n",
    "\n",
    "num_posts = c.execute('''SELECT COUNT(posts.Id)\n",
    "                         FROM users\n",
    "                         LEFT JOIN posts ON users.Id = posts.OwnerUserId\n",
    "                         GROUP BY users.Id\n",
    "                         ORDER BY users.Id''') # this includes all posts, not just answers\n",
    "\n",
    "num_posts_arr = num_posts.fetchall()\n",
    "\n",
    "p = plt.scatter(rep_by_user_arr, num_posts_arr)\n",
    "plt.axis([0, 40000, 0, 1000])\n",
    "plt.show()"
   ]
  },
  {
   "cell_type": "markdown",
   "metadata": {},
   "source": [
    "#### Mean Response Time vs. Tags"
   ]
  },
  {
   "cell_type": "code",
   "execution_count": null,
   "metadata": {
    "collapsed": true
   },
   "outputs": [],
   "source": []
  },
  {
   "cell_type": "markdown",
   "metadata": {},
   "source": [
    "# Answer Quality\n",
    "\n",
    "Now that we have a basic understanding of our data, we will try to understand the quality of an answer. We will measure answer quality in both:\n",
    "\n",
    "$$upvotes$$\n",
    "\n",
    "and\n",
    "\n",
    "$$upvote\\ proportion = \\frac{upvotes}{upvotes + downvotes}$$\n",
    "\n",
    "We must understand the following:\n",
    "\n",
    "* Cause of Answerer Reputation, factors that correlate to Answerer Reputation\n",
    "* (REMOVE) Relationship between quality score and total votes\n",
    "* Difficulty of a question, measured in question text and response time\n",
    "* Trends over time (year and month of year), measured in changes to Answer Quality and response time over time\n",
    "\n",
    "And finally, we will determine:\n",
    "* Answer Quality based on other features"
   ]
  },
  {
   "cell_type": "markdown",
   "metadata": {},
   "source": [
    "## Understanding Answerer Reputation"
   ]
  },
  {
   "cell_type": "markdown",
   "metadata": {},
   "source": [
    "## Quality score vs. total votes"
   ]
  },
  {
   "cell_type": "markdown",
   "metadata": {},
   "source": [
    "## Difficulty of Question"
   ]
  },
  {
   "cell_type": "markdown",
   "metadata": {},
   "source": [
    "## Trends over Time"
   ]
  },
  {
   "cell_type": "markdown",
   "metadata": {},
   "source": [
    "## Relationship of features to Answer Quality"
   ]
  }
 ],
 "metadata": {
  "anaconda-cloud": {},
  "kernelspec": {
   "display_name": "Python [Root]",
   "language": "python",
   "name": "Python [Root]"
  },
  "language_info": {
   "codemirror_mode": {
    "name": "ipython",
    "version": 2
   },
   "file_extension": ".py",
   "mimetype": "text/x-python",
   "name": "python",
   "nbconvert_exporter": "python",
   "pygments_lexer": "ipython2",
   "version": "2.7.12"
  }
 },
 "nbformat": 4,
 "nbformat_minor": 0
}
